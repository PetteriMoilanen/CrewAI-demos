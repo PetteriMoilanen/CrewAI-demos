{
 "cells": [
  {
   "cell_type": "markdown",
   "metadata": {},
   "source": [
    "## CrewAI Demo 1 - Create Agents to Research and Write an Article\n",
    "\n",
    "This is my version of the notebook **Lesson 2 - Create Agents to Research and Write an Article** of the DeepLearningAI course [Multi AI Agent Systems with crewAI](https://learn.deeplearning.ai/courses/multi-ai-agent-systems-with-crewai). \n",
    "\n",
    "I've streamlined the code a bit, removing some non-essential bits. I've also changed the LLM model from OpenAI...\n",
    "\n",
    "### 1 Preliminaries\n",
    "#### Warning control"
   ]
  },
  {
   "cell_type": "code",
   "execution_count": 1,
   "metadata": {
    "height": 64
   },
   "outputs": [],
   "source": [
    "import warnings\n",
    "warnings.filterwarnings('ignore')"
   ]
  },
  {
   "cell_type": "markdown",
   "metadata": {},
   "source": [
    "#### Set up LangChain tracing"
   ]
  },
  {
   "cell_type": "code",
   "execution_count": 2,
   "metadata": {},
   "outputs": [],
   "source": [
    "import os\n",
    "# 1. Set up LangSmith environment variables (replace with your actual values)\n",
    "os.environ[\"LANGCHAIN_TRACING_V2\"] = \"true\"\n",
    "os.environ[\"LANGCHAIN_API_KEY\"] = os.getenv(\"LANGCHAIN_API_KEY\")\n",
    "os.environ[\"LANGCHAIN_PROJECT\"] = \"CrewAI demo project\"  "
   ]
  },
  {
   "cell_type": "markdown",
   "metadata": {},
   "source": [
    "#### Import from the crewAI libray"
   ]
  },
  {
   "cell_type": "code",
   "execution_count": 3,
   "metadata": {
    "height": 30
   },
   "outputs": [
    {
     "name": "stdout",
     "output_type": "stream",
     "text": [
      "2025-04-09 08:49:39,338 [embedchain] [INFO] Swapped std-lib sqlite3 with pysqlite3 for ChromaDb compatibility. Your original version was 3.31.1.\n"
     ]
    }
   ],
   "source": [
    "from crewai import Agent, Task, Crew"
   ]
  },
  {
   "cell_type": "markdown",
   "metadata": {},
   "source": [
    "#### Set the LLM\n",
    "\n",
    "Set those environment variables that your model and tools require."
   ]
  },
  {
   "cell_type": "code",
   "execution_count": 4,
   "metadata": {
    "height": 98
   },
   "outputs": [],
   "source": [
    "import os\n",
    "from utils import get_openai_api_key\n",
    "\n",
    "openai_api_key = get_openai_api_key()\n",
    "os.environ[\"OPENAI_MODEL_NAME\"] = 'gpt-3.5-turbo'"
   ]
  },
  {
   "cell_type": "markdown",
   "metadata": {},
   "source": [
    "### Creating Agents\n",
    "\n",
    "- Define your Agents, and provide them a `role`, `goal` and `backstory`.\n",
    "- It has been seen that LLMs perform better when they are role playing."
   ]
  },
  {
   "cell_type": "markdown",
   "metadata": {},
   "source": [
    "#### Agent: Planner\n",
    "\n",
    "**Note**: The benefit of using _multiple strings_ :\n",
    "```Python\n",
    "varname = \"line 1 of text\"\n",
    "          \"line 2 of text\"\n",
    "```\n",
    "\n",
    "versus the _triple quote docstring_:\n",
    "```Python\n",
    "varname = \"\"\"line 1 of text\n",
    "             line 2 of text\n",
    "          \"\"\"\n",
    "```\n",
    "is that it can avoid adding those whitespaces and newline characters, making it better formatted to be passed to the LLM."
   ]
  },
  {
   "cell_type": "code",
   "execution_count": 5,
   "metadata": {
    "height": 249
   },
   "outputs": [],
   "source": [
    "planner = Agent(\n",
    "    role=\"Content Planner\",\n",
    "    goal=\"Plan engaging and factually accurate content on {topic}\",\n",
    "    backstory=\"You're working on planning a blog article \"\n",
    "              \"about the topic: {topic}.\"\n",
    "              \"You collect information that helps the \"\n",
    "              \"audience learn something \"\n",
    "              \"and make informed decisions. \"\n",
    "              \"Your work is the basis for \"\n",
    "              \"the Content Writer to write an article on this topic.\",\n",
    "    allow_delegation=False,\n",
    "\tverbose=True\n",
    ")"
   ]
  },
  {
   "cell_type": "markdown",
   "metadata": {},
   "source": [
    "#### Agent: Writer"
   ]
  },
  {
   "cell_type": "code",
   "execution_count": 6,
   "metadata": {
    "height": 370
   },
   "outputs": [],
   "source": [
    "writer = Agent(\n",
    "    role=\"Content Writer\",\n",
    "    goal=\"Write insightful and factually accurate \"\n",
    "         \"opinion piece about the topic: {topic}\",\n",
    "    backstory=\"You're working on a writing \"\n",
    "              \"a new opinion piece about the topic: {topic}. \"\n",
    "              \"You base your writing on the work of \"\n",
    "              \"the Content Planner, who provides an outline \"\n",
    "              \"and relevant context about the topic. \"\n",
    "              \"You follow the main objectives and \"\n",
    "              \"direction of the outline, \"\n",
    "              \"as provide by the Content Planner. \"\n",
    "              \"You also provide objective and impartial insights \"\n",
    "              \"and back them up with information \"\n",
    "              \"provide by the Content Planner. \"\n",
    "              \"You acknowledge in your opinion piece \"\n",
    "              \"when your statements are opinions \"\n",
    "              \"as opposed to objective statements.\",\n",
    "    allow_delegation=False,\n",
    "    verbose=True\n",
    ")"
   ]
  },
  {
   "cell_type": "markdown",
   "metadata": {},
   "source": [
    "#### Agent: Editor"
   ]
  },
  {
   "cell_type": "code",
   "execution_count": 7,
   "metadata": {
    "height": 283
   },
   "outputs": [],
   "source": [
    "editor = Agent(\n",
    "    role=\"Editor\",\n",
    "    goal=\"Edit a given blog post to align with \"\n",
    "         \"the writing style of the organization. \",\n",
    "    backstory=\"You are an editor who receives a blog post \"\n",
    "              \"from the Content Writer. \"\n",
    "              \"Your goal is to review the blog post \"\n",
    "              \"to ensure that it follows journalistic best practices,\"\n",
    "              \"provides balanced viewpoints \"\n",
    "              \"when providing opinions or assertions, \"\n",
    "              \"and also avoids major controversial topics \"\n",
    "              \"or opinions when possible.\",\n",
    "    allow_delegation=False,\n",
    "    verbose=True\n",
    ")"
   ]
  },
  {
   "cell_type": "markdown",
   "metadata": {},
   "source": [
    "## Creating Tasks\n",
    "\n",
    "- Define your Tasks, and provide them a `description`, `expected_output` and `agent`."
   ]
  },
  {
   "cell_type": "markdown",
   "metadata": {},
   "source": [
    "#### Task: Plan"
   ]
  },
  {
   "cell_type": "code",
   "execution_count": 8,
   "metadata": {
    "height": 268
   },
   "outputs": [],
   "source": [
    "plan = Task(\n",
    "    description=(\n",
    "        \"1. Prioritize the latest trends, key players, \"\n",
    "            \"and noteworthy news on {topic}.\\n\"\n",
    "        \"2. Identify the target audience, considering \"\n",
    "            \"their interests and pain points.\\n\"\n",
    "        \"3. Develop a detailed content outline including \"\n",
    "            \"an introduction, key points, and a call to action.\\n\"\n",
    "        \"4. Include SEO keywords and relevant data or sources.\"\n",
    "    ),\n",
    "    expected_output=\"A comprehensive content plan document \"\n",
    "        \"with an outline, audience analysis, \"\n",
    "        \"SEO keywords, and resources.\",\n",
    "    agent=planner,\n",
    ")"
   ]
  },
  {
   "cell_type": "markdown",
   "metadata": {},
   "source": [
    "#### Task: Write"
   ]
  },
  {
   "cell_type": "code",
   "execution_count": 9,
   "metadata": {
    "height": 319
   },
   "outputs": [],
   "source": [
    "write = Task(\n",
    "    description=(\n",
    "        \"1. Use the content plan to craft a compelling \"\n",
    "            \"blog post on {topic}.\\n\"\n",
    "        \"2. Incorporate SEO keywords naturally.\\n\"\n",
    "\t\t\"3. Sections/Subtitles are properly named \"\n",
    "            \"in an engaging manner.\\n\"\n",
    "        \"4. Ensure the post is structured with an \"\n",
    "            \"engaging introduction, insightful body, \"\n",
    "            \"and a summarizing conclusion.\\n\"\n",
    "        \"5. Proofread for grammatical errors and \"\n",
    "            \"alignment with the brand's voice.\\n\"\n",
    "    ),\n",
    "    expected_output=\"A well-written blog post \"\n",
    "        \"in markdown format, ready for publication, \"\n",
    "        \"each section should have 2 or 3 paragraphs.\",\n",
    "    agent=writer,\n",
    ")"
   ]
  },
  {
   "cell_type": "markdown",
   "metadata": {},
   "source": [
    "#### Task: Edit"
   ]
  },
  {
   "cell_type": "code",
   "execution_count": 10,
   "metadata": {
    "height": 166
   },
   "outputs": [],
   "source": [
    "edit = Task(\n",
    "    description=(\"Proofread the given blog post for \"\n",
    "                 \"grammatical errors and \"\n",
    "                 \"alignment with the brand's voice.\"),\n",
    "    expected_output=\"A well-written blog post in markdown format, \"\n",
    "                    \"ready for publication, \"\n",
    "                    \"each section should have 2 or 3 paragraphs.\",\n",
    "    agent=editor\n",
    ")"
   ]
  },
  {
   "cell_type": "markdown",
   "metadata": {},
   "source": [
    "## Creating the Crew\n",
    "\n",
    "- Create your crew of Agents\n",
    "- Pass the tasks to be performed by those agents.\n",
    "    - **Note**: *For this simple example*, the tasks will be performed sequentially (i.e they are dependent on each other), so the _order_ of the task in the list _matters_.\n",
    "- `verbose=2` allows you to see all the logs of the execution. "
   ]
  },
  {
   "cell_type": "code",
   "execution_count": 11,
   "metadata": {
    "height": 98
   },
   "outputs": [],
   "source": [
    "crew = Crew(\n",
    "    agents=[planner, writer, editor],\n",
    "    tasks=[plan, write, edit],\n",
    "    verbose=2\n",
    ")"
   ]
  },
  {
   "cell_type": "markdown",
   "metadata": {},
   "source": [
    "## Running the Crew"
   ]
  },
  {
   "cell_type": "markdown",
   "metadata": {},
   "source": [
    "**Note**: LLMs can provide different outputs for they same input, so what you get might be different than what you see in the video."
   ]
  },
  {
   "cell_type": "code",
   "execution_count": 12,
   "metadata": {
    "height": 30
   },
   "outputs": [
    {
     "name": "stdout",
     "output_type": "stream",
     "text": [
      "\u001b[1m\u001b[95m [DEBUG]: == Working Agent: Content Planner\u001b[00m\n",
      "\u001b[1m\u001b[95m [INFO]: == Starting Task: 1. Prioritize the latest trends, key players, and noteworthy news on Artificial Intelligence.\n",
      "2. Identify the target audience, considering their interests and pain points.\n",
      "3. Develop a detailed content outline including an introduction, key points, and a call to action.\n",
      "4. Include SEO keywords and relevant data or sources.\u001b[00m\n",
      "\n",
      "\n",
      "\u001b[1m> Entering new CrewAgentExecutor chain...\u001b[0m\n",
      "\u001b[32;1m\u001b[1;3mI now can give a great answer\n",
      "\n",
      "Final Answer: \n",
      "\n",
      "Title: Unveiling the Future: The Latest Trends and Key Players in Artificial Intelligence\n",
      "\n",
      "Introduction:\n",
      "- Brief overview of Artificial Intelligence (AI) and its impact on various industries\n",
      "- Mention of the rapid advancements in AI technology and its potential implications\n",
      "\n",
      "Key Points:\n",
      "1. Latest Trends in Artificial Intelligence:\n",
      "- Machine learning and deep learning algorithms\n",
      "- Natural language processing and chatbots\n",
      "- AI-powered automation and robotics\n",
      "- Ethical considerations in AI development\n",
      "\n",
      "2. Key Players in the AI Industry:\n",
      "- Google DeepMind\n",
      "- IBM Watson\n",
      "- Amazon Web Services (AWS)\n",
      "- Microsoft Azure\n",
      "- OpenAI\n",
      "- Tesla\n",
      "\n",
      "3. Noteworthy News in Artificial Intelligence:\n",
      "- Recent breakthroughs in AI research\n",
      "- Applications of AI in healthcare, finance, and transportation\n",
      "- Collaborations between tech giants and AI startups\n",
      "- Regulatory developments in AI ethics and governance\n",
      "\n",
      "Audience Analysis:\n",
      "Target Audience: Tech enthusiasts, professionals in the IT industry, business leaders exploring AI implementation\n",
      "Interests: Latest technological advancements, industry insights, ethical considerations in AI development\n",
      "Pain Points: Understanding complex AI concepts, keeping up with rapidly evolving trends, identifying reliable sources for AI news\n",
      "\n",
      "Call to Action:\n",
      "- Encourage readers to stay informed on AI developments through reputable sources\n",
      "- Prompt readers to engage in discussions on AI ethics and implications in their respective fields\n",
      "- Invite readers to explore AI-related courses or workshops to further their knowledge in the field\n",
      "\n",
      "SEO Keywords:\n",
      "- Artificial Intelligence trends\n",
      "- Key players in AI\n",
      "- Latest news in AI technology\n",
      "- AI industry updates\n",
      "- Ethical considerations in Artificial Intelligence\n",
      "\n",
      "Resources:\n",
      "- Research reports and whitepapers from industry experts\n",
      "- Articles from reputable tech publications like TechCrunch and Wired\n",
      "- AI-related podcasts and webinars for in-depth insights\n",
      "- Official websites of key players in the AI industry for company updates and press releases\n",
      "\n",
      "Overall, this content plan aims to provide a comprehensive overview of the latest trends, key players, and noteworthy news in Artificial Intelligence, tailored to the interests and pain points of the target audience. By incorporating SEO keywords and relevant resources, the blog article will offer valuable insights and actionable information for readers looking to stay informed on the dynamic field of AI.\u001b[0m\n",
      "\n",
      "\u001b[1m> Finished chain.\u001b[0m\n",
      "\u001b[1m\u001b[92m [DEBUG]: == [Content Planner] Task output: Title: Unveiling the Future: The Latest Trends and Key Players in Artificial Intelligence\n",
      "\n",
      "Introduction:\n",
      "- Brief overview of Artificial Intelligence (AI) and its impact on various industries\n",
      "- Mention of the rapid advancements in AI technology and its potential implications\n",
      "\n",
      "Key Points:\n",
      "1. Latest Trends in Artificial Intelligence:\n",
      "- Machine learning and deep learning algorithms\n",
      "- Natural language processing and chatbots\n",
      "- AI-powered automation and robotics\n",
      "- Ethical considerations in AI development\n",
      "\n",
      "2. Key Players in the AI Industry:\n",
      "- Google DeepMind\n",
      "- IBM Watson\n",
      "- Amazon Web Services (AWS)\n",
      "- Microsoft Azure\n",
      "- OpenAI\n",
      "- Tesla\n",
      "\n",
      "3. Noteworthy News in Artificial Intelligence:\n",
      "- Recent breakthroughs in AI research\n",
      "- Applications of AI in healthcare, finance, and transportation\n",
      "- Collaborations between tech giants and AI startups\n",
      "- Regulatory developments in AI ethics and governance\n",
      "\n",
      "Audience Analysis:\n",
      "Target Audience: Tech enthusiasts, professionals in the IT industry, business leaders exploring AI implementation\n",
      "Interests: Latest technological advancements, industry insights, ethical considerations in AI development\n",
      "Pain Points: Understanding complex AI concepts, keeping up with rapidly evolving trends, identifying reliable sources for AI news\n",
      "\n",
      "Call to Action:\n",
      "- Encourage readers to stay informed on AI developments through reputable sources\n",
      "- Prompt readers to engage in discussions on AI ethics and implications in their respective fields\n",
      "- Invite readers to explore AI-related courses or workshops to further their knowledge in the field\n",
      "\n",
      "SEO Keywords:\n",
      "- Artificial Intelligence trends\n",
      "- Key players in AI\n",
      "- Latest news in AI technology\n",
      "- AI industry updates\n",
      "- Ethical considerations in Artificial Intelligence\n",
      "\n",
      "Resources:\n",
      "- Research reports and whitepapers from industry experts\n",
      "- Articles from reputable tech publications like TechCrunch and Wired\n",
      "- AI-related podcasts and webinars for in-depth insights\n",
      "- Official websites of key players in the AI industry for company updates and press releases\n",
      "\n",
      "Overall, this content plan aims to provide a comprehensive overview of the latest trends, key players, and noteworthy news in Artificial Intelligence, tailored to the interests and pain points of the target audience. By incorporating SEO keywords and relevant resources, the blog article will offer valuable insights and actionable information for readers looking to stay informed on the dynamic field of AI.\n",
      "\n",
      "\u001b[00m\n",
      "\u001b[1m\u001b[95m [DEBUG]: == Working Agent: Content Writer\u001b[00m\n",
      "\u001b[1m\u001b[95m [INFO]: == Starting Task: 1. Use the content plan to craft a compelling blog post on Artificial Intelligence.\n",
      "2. Incorporate SEO keywords naturally.\n",
      "3. Sections/Subtitles are properly named in an engaging manner.\n",
      "4. Ensure the post is structured with an engaging introduction, insightful body, and a summarizing conclusion.\n",
      "5. Proofread for grammatical errors and alignment with the brand's voice.\n",
      "\u001b[00m\n",
      "\n",
      "\n",
      "\u001b[1m> Entering new CrewAgentExecutor chain...\u001b[0m\n",
      "\u001b[32;1m\u001b[1;3mI now can give a great answer\n",
      "\n",
      "Final Answer:\n",
      "\n",
      "# Unveiling the Future: The Latest Trends and Key Players in Artificial Intelligence\n",
      "\n",
      "## Introduction:\n",
      "Artificial Intelligence (AI) has become a transformative force across various industries, revolutionizing the way businesses operate and interact with customers. The rapid advancements in AI technology have led to innovations in machine learning, natural language processing, and automation, reshaping the future of work and society as a whole. As AI continues to evolve, it is crucial to explore the latest trends and key players driving this technological revolution.\n",
      "\n",
      "## Latest Trends in Artificial Intelligence:\n",
      "In the realm of AI, machine learning and deep learning algorithms have emerged as powerful tools for data analysis and predictive modeling. These algorithms enable computers to learn from vast amounts of data and make decisions without human intervention. Additionally, natural language processing and chatbots have revolutionized customer service and communication, providing personalized experiences and improving efficiency.\n",
      "\n",
      "AI-powered automation and robotics have also gained traction in various industries, streamlining processes and increasing productivity. However, as AI technologies become more prevalent, ethical considerations in AI development have come to the forefront. It is essential to address issues such as bias in AI algorithms, data privacy concerns, and the impact of automation on jobs and society.\n",
      "\n",
      "## Key Players in the AI Industry:\n",
      "Several key players have emerged as leaders in the AI industry, driving innovation and shaping the future of AI technology. Companies like Google DeepMind, IBM Watson, and Amazon Web Services (AWS) have made significant contributions to AI research and development. Microsoft Azure, OpenAI, and Tesla are also at the forefront of AI advancements, pushing the boundaries of what is possible with artificial intelligence.\n",
      "\n",
      "## Noteworthy News in Artificial Intelligence:\n",
      "Recent breakthroughs in AI research have paved the way for exciting applications in healthcare, finance, transportation, and other industries. Collaborations between tech giants and AI startups have led to innovative solutions and products that enhance the capabilities of AI technology. Regulatory developments in AI ethics and governance are also shaping the future of AI, ensuring that AI technologies are developed and deployed responsibly.\n",
      "\n",
      "## Audience Analysis:\n",
      "For tech enthusiasts, professionals in the IT industry, and business leaders exploring AI implementation, staying informed on the latest trends and developments in AI is essential. By understanding industry insights and ethical considerations in AI development, readers can navigate the complex landscape of AI technology more effectively. This blog post aims to provide valuable insights and resources for readers looking to deepen their knowledge of AI and its implications.\n",
      "\n",
      "## Call to Action:\n",
      "I encourage readers to stay informed on AI developments through reputable sources such as research reports, tech publications, podcasts, and webinars. Engaging in discussions on AI ethics and implications in their respective fields can help readers gain a deeper understanding of the societal impact of AI technology. Exploring AI-related courses or workshops can also further readers' knowledge and expertise in the field of artificial intelligence.\n",
      "\n",
      "In conclusion, Artificial Intelligence is a dynamic and rapidly evolving field that holds immense potential for innovation and transformation. By exploring the latest trends, key players, and noteworthy news in AI, readers can gain valuable insights into the future of AI technology and its impact on society. Stay informed, engage in discussions, and continue to explore the possibilities of AI in shaping the future.\u001b[0m\n",
      "\n",
      "\u001b[1m> Finished chain.\u001b[0m\n",
      "\u001b[1m\u001b[92m [DEBUG]: == [Content Writer] Task output: # Unveiling the Future: The Latest Trends and Key Players in Artificial Intelligence\n",
      "\n",
      "## Introduction:\n",
      "Artificial Intelligence (AI) has become a transformative force across various industries, revolutionizing the way businesses operate and interact with customers. The rapid advancements in AI technology have led to innovations in machine learning, natural language processing, and automation, reshaping the future of work and society as a whole. As AI continues to evolve, it is crucial to explore the latest trends and key players driving this technological revolution.\n",
      "\n",
      "## Latest Trends in Artificial Intelligence:\n",
      "In the realm of AI, machine learning and deep learning algorithms have emerged as powerful tools for data analysis and predictive modeling. These algorithms enable computers to learn from vast amounts of data and make decisions without human intervention. Additionally, natural language processing and chatbots have revolutionized customer service and communication, providing personalized experiences and improving efficiency.\n",
      "\n",
      "AI-powered automation and robotics have also gained traction in various industries, streamlining processes and increasing productivity. However, as AI technologies become more prevalent, ethical considerations in AI development have come to the forefront. It is essential to address issues such as bias in AI algorithms, data privacy concerns, and the impact of automation on jobs and society.\n",
      "\n",
      "## Key Players in the AI Industry:\n",
      "Several key players have emerged as leaders in the AI industry, driving innovation and shaping the future of AI technology. Companies like Google DeepMind, IBM Watson, and Amazon Web Services (AWS) have made significant contributions to AI research and development. Microsoft Azure, OpenAI, and Tesla are also at the forefront of AI advancements, pushing the boundaries of what is possible with artificial intelligence.\n",
      "\n",
      "## Noteworthy News in Artificial Intelligence:\n",
      "Recent breakthroughs in AI research have paved the way for exciting applications in healthcare, finance, transportation, and other industries. Collaborations between tech giants and AI startups have led to innovative solutions and products that enhance the capabilities of AI technology. Regulatory developments in AI ethics and governance are also shaping the future of AI, ensuring that AI technologies are developed and deployed responsibly.\n",
      "\n",
      "## Audience Analysis:\n",
      "For tech enthusiasts, professionals in the IT industry, and business leaders exploring AI implementation, staying informed on the latest trends and developments in AI is essential. By understanding industry insights and ethical considerations in AI development, readers can navigate the complex landscape of AI technology more effectively. This blog post aims to provide valuable insights and resources for readers looking to deepen their knowledge of AI and its implications.\n",
      "\n",
      "## Call to Action:\n",
      "I encourage readers to stay informed on AI developments through reputable sources such as research reports, tech publications, podcasts, and webinars. Engaging in discussions on AI ethics and implications in their respective fields can help readers gain a deeper understanding of the societal impact of AI technology. Exploring AI-related courses or workshops can also further readers' knowledge and expertise in the field of artificial intelligence.\n",
      "\n",
      "In conclusion, Artificial Intelligence is a dynamic and rapidly evolving field that holds immense potential for innovation and transformation. By exploring the latest trends, key players, and noteworthy news in AI, readers can gain valuable insights into the future of AI technology and its impact on society. Stay informed, engage in discussions, and continue to explore the possibilities of AI in shaping the future.\n",
      "\n",
      "\u001b[00m\n",
      "\u001b[1m\u001b[95m [DEBUG]: == Working Agent: Editor\u001b[00m\n",
      "\u001b[1m\u001b[95m [INFO]: == Starting Task: Proofread the given blog post for grammatical errors and alignment with the brand's voice.\u001b[00m\n",
      "\n",
      "\n",
      "\u001b[1m> Entering new CrewAgentExecutor chain...\u001b[0m\n",
      "\u001b[32;1m\u001b[1;3mI now can give a great answer\n",
      "\n",
      "Final Answer: \n",
      "\n",
      "# Unveiling the Future: The Latest Trends and Key Players in Artificial Intelligence\n",
      "\n",
      "## Introduction:\n",
      "Artificial Intelligence (AI) has become a transformative force across various industries, revolutionizing the way businesses operate and interact with customers. The rapid advancements in AI technology have led to innovations in machine learning, natural language processing, and automation, reshaping the future of work and society as a whole. As AI continues to evolve, it is crucial to explore the latest trends and key players driving this technological revolution.\n",
      "\n",
      "## Latest Trends in Artificial Intelligence:\n",
      "In the realm of AI, machine learning and deep learning algorithms have emerged as powerful tools for data analysis and predictive modeling. These algorithms enable computers to learn from vast amounts of data and make decisions without human intervention. Additionally, natural language processing and chatbots have revolutionized customer service and communication, providing personalized experiences and improving efficiency.\n",
      "\n",
      "AI-powered automation and robotics have also gained traction in various industries, streamlining processes and increasing productivity. However, as AI technologies become more prevalent, ethical considerations in AI development have come to the forefront. It is essential to address issues such as bias in AI algorithms, data privacy concerns, and the impact of automation on jobs and society.\n",
      "\n",
      "## Key Players in the AI Industry:\n",
      "Several key players have emerged as leaders in the AI industry, driving innovation and shaping the future of AI technology. Companies like Google DeepMind, IBM Watson, and Amazon Web Services (AWS) have made significant contributions to AI research and development. Microsoft Azure, OpenAI, and Tesla are also at the forefront of AI advancements, pushing the boundaries of what is possible with artificial intelligence.\n",
      "\n",
      "## Noteworthy News in Artificial Intelligence:\n",
      "Recent breakthroughs in AI research have paved the way for exciting applications in healthcare, finance, transportation, and other industries. Collaborations between tech giants and AI startups have led to innovative solutions and products that enhance the capabilities of AI technology. Regulatory developments in AI ethics and governance are also shaping the future of AI, ensuring that AI technologies are developed and deployed responsibly.\n",
      "\n",
      "## Audience Analysis:\n",
      "For tech enthusiasts, professionals in the IT industry, and business leaders exploring AI implementation, staying informed on the latest trends and developments in AI is essential. By understanding industry insights and ethical considerations in AI development, readers can navigate the complex landscape of AI technology more effectively. This blog post aims to provide valuable insights and resources for readers looking to deepen their knowledge of AI and its implications.\n",
      "\n",
      "## Call to Action:\n",
      "I encourage readers to stay informed on AI developments through reputable sources such as research reports, tech publications, podcasts, and webinars. Engaging in discussions on AI ethics and implications in their respective fields can help readers gain a deeper understanding of the societal impact of AI technology. Exploring AI-related courses or workshops can also further readers' knowledge and expertise in the field of artificial intelligence.\n",
      "\n",
      "In conclusion, Artificial Intelligence is a dynamic and rapidly evolving field that holds immense potential for innovation and transformation. By exploring the latest trends, key players, and noteworthy news in AI, readers can gain valuable insights into the future of AI technology and its impact on society. Stay informed, engage in discussions, and continue to explore the possibilities of AI in shaping the future.\u001b[0m\n",
      "\n",
      "\u001b[1m> Finished chain.\u001b[0m\n",
      "\u001b[1m\u001b[92m [DEBUG]: == [Editor] Task output: # Unveiling the Future: The Latest Trends and Key Players in Artificial Intelligence\n",
      "\n",
      "## Introduction:\n",
      "Artificial Intelligence (AI) has become a transformative force across various industries, revolutionizing the way businesses operate and interact with customers. The rapid advancements in AI technology have led to innovations in machine learning, natural language processing, and automation, reshaping the future of work and society as a whole. As AI continues to evolve, it is crucial to explore the latest trends and key players driving this technological revolution.\n",
      "\n",
      "## Latest Trends in Artificial Intelligence:\n",
      "In the realm of AI, machine learning and deep learning algorithms have emerged as powerful tools for data analysis and predictive modeling. These algorithms enable computers to learn from vast amounts of data and make decisions without human intervention. Additionally, natural language processing and chatbots have revolutionized customer service and communication, providing personalized experiences and improving efficiency.\n",
      "\n",
      "AI-powered automation and robotics have also gained traction in various industries, streamlining processes and increasing productivity. However, as AI technologies become more prevalent, ethical considerations in AI development have come to the forefront. It is essential to address issues such as bias in AI algorithms, data privacy concerns, and the impact of automation on jobs and society.\n",
      "\n",
      "## Key Players in the AI Industry:\n",
      "Several key players have emerged as leaders in the AI industry, driving innovation and shaping the future of AI technology. Companies like Google DeepMind, IBM Watson, and Amazon Web Services (AWS) have made significant contributions to AI research and development. Microsoft Azure, OpenAI, and Tesla are also at the forefront of AI advancements, pushing the boundaries of what is possible with artificial intelligence.\n",
      "\n",
      "## Noteworthy News in Artificial Intelligence:\n",
      "Recent breakthroughs in AI research have paved the way for exciting applications in healthcare, finance, transportation, and other industries. Collaborations between tech giants and AI startups have led to innovative solutions and products that enhance the capabilities of AI technology. Regulatory developments in AI ethics and governance are also shaping the future of AI, ensuring that AI technologies are developed and deployed responsibly.\n",
      "\n",
      "## Audience Analysis:\n",
      "For tech enthusiasts, professionals in the IT industry, and business leaders exploring AI implementation, staying informed on the latest trends and developments in AI is essential. By understanding industry insights and ethical considerations in AI development, readers can navigate the complex landscape of AI technology more effectively. This blog post aims to provide valuable insights and resources for readers looking to deepen their knowledge of AI and its implications.\n",
      "\n",
      "## Call to Action:\n",
      "I encourage readers to stay informed on AI developments through reputable sources such as research reports, tech publications, podcasts, and webinars. Engaging in discussions on AI ethics and implications in their respective fields can help readers gain a deeper understanding of the societal impact of AI technology. Exploring AI-related courses or workshops can also further readers' knowledge and expertise in the field of artificial intelligence.\n",
      "\n",
      "In conclusion, Artificial Intelligence is a dynamic and rapidly evolving field that holds immense potential for innovation and transformation. By exploring the latest trends, key players, and noteworthy news in AI, readers can gain valuable insights into the future of AI technology and its impact on society. Stay informed, engage in discussions, and continue to explore the possibilities of AI in shaping the future.\n",
      "\n",
      "\u001b[00m\n"
     ]
    }
   ],
   "source": [
    "result = crew.kickoff(inputs={\"topic\": \"Artificial Intelligence\"})"
   ]
  },
  {
   "cell_type": "markdown",
   "metadata": {},
   "source": [
    "- Display the results of your execution as markdown in the notebook."
   ]
  },
  {
   "cell_type": "code",
   "execution_count": 13,
   "metadata": {
    "height": 47
   },
   "outputs": [
    {
     "data": {
      "text/markdown": [
       "# Unveiling the Future: The Latest Trends and Key Players in Artificial Intelligence\n",
       "\n",
       "## Introduction:\n",
       "Artificial Intelligence (AI) has become a transformative force across various industries, revolutionizing the way businesses operate and interact with customers. The rapid advancements in AI technology have led to innovations in machine learning, natural language processing, and automation, reshaping the future of work and society as a whole. As AI continues to evolve, it is crucial to explore the latest trends and key players driving this technological revolution.\n",
       "\n",
       "## Latest Trends in Artificial Intelligence:\n",
       "In the realm of AI, machine learning and deep learning algorithms have emerged as powerful tools for data analysis and predictive modeling. These algorithms enable computers to learn from vast amounts of data and make decisions without human intervention. Additionally, natural language processing and chatbots have revolutionized customer service and communication, providing personalized experiences and improving efficiency.\n",
       "\n",
       "AI-powered automation and robotics have also gained traction in various industries, streamlining processes and increasing productivity. However, as AI technologies become more prevalent, ethical considerations in AI development have come to the forefront. It is essential to address issues such as bias in AI algorithms, data privacy concerns, and the impact of automation on jobs and society.\n",
       "\n",
       "## Key Players in the AI Industry:\n",
       "Several key players have emerged as leaders in the AI industry, driving innovation and shaping the future of AI technology. Companies like Google DeepMind, IBM Watson, and Amazon Web Services (AWS) have made significant contributions to AI research and development. Microsoft Azure, OpenAI, and Tesla are also at the forefront of AI advancements, pushing the boundaries of what is possible with artificial intelligence.\n",
       "\n",
       "## Noteworthy News in Artificial Intelligence:\n",
       "Recent breakthroughs in AI research have paved the way for exciting applications in healthcare, finance, transportation, and other industries. Collaborations between tech giants and AI startups have led to innovative solutions and products that enhance the capabilities of AI technology. Regulatory developments in AI ethics and governance are also shaping the future of AI, ensuring that AI technologies are developed and deployed responsibly.\n",
       "\n",
       "## Audience Analysis:\n",
       "For tech enthusiasts, professionals in the IT industry, and business leaders exploring AI implementation, staying informed on the latest trends and developments in AI is essential. By understanding industry insights and ethical considerations in AI development, readers can navigate the complex landscape of AI technology more effectively. This blog post aims to provide valuable insights and resources for readers looking to deepen their knowledge of AI and its implications.\n",
       "\n",
       "## Call to Action:\n",
       "I encourage readers to stay informed on AI developments through reputable sources such as research reports, tech publications, podcasts, and webinars. Engaging in discussions on AI ethics and implications in their respective fields can help readers gain a deeper understanding of the societal impact of AI technology. Exploring AI-related courses or workshops can also further readers' knowledge and expertise in the field of artificial intelligence.\n",
       "\n",
       "In conclusion, Artificial Intelligence is a dynamic and rapidly evolving field that holds immense potential for innovation and transformation. By exploring the latest trends, key players, and noteworthy news in AI, readers can gain valuable insights into the future of AI technology and its impact on society. Stay informed, engage in discussions, and continue to explore the possibilities of AI in shaping the future."
      ],
      "text/plain": [
       "<IPython.core.display.Markdown object>"
      ]
     },
     "execution_count": 13,
     "metadata": {},
     "output_type": "execute_result"
    }
   ],
   "source": [
    "from IPython.display import Markdown\n",
    "Markdown(result)"
   ]
  },
  {
   "cell_type": "markdown",
   "metadata": {},
   "source": [
    "## Try it Yourself\n",
    "\n",
    "- Pass in a topic of your choice and see what the agents come up with!"
   ]
  },
  {
   "cell_type": "code",
   "execution_count": null,
   "metadata": {
    "height": 47
   },
   "outputs": [],
   "source": [
    "topic = \"YOUR TOPIC HERE\"\n",
    "result = crew.kickoff(inputs={\"topic\": topic})"
   ]
  },
  {
   "cell_type": "code",
   "execution_count": null,
   "metadata": {
    "height": 30
   },
   "outputs": [],
   "source": [
    "Markdown(result)"
   ]
  },
  {
   "cell_type": "markdown",
   "metadata": {},
   "source": [
    "<a name='1'></a>\n",
    " ## Other Popular Models as LLM for your Agents"
   ]
  },
  {
   "cell_type": "markdown",
   "metadata": {},
   "source": [
    "#### Hugging Face (HuggingFaceHub endpoint)\n",
    "\n",
    "```Python\n",
    "from langchain_community.llms import HuggingFaceHub\n",
    "\n",
    "llm = HuggingFaceHub(\n",
    "    repo_id=\"HuggingFaceH4/zephyr-7b-beta\",\n",
    "    huggingfacehub_api_token=\"<HF_TOKEN_HERE>\",\n",
    "    task=\"text-generation\",\n",
    ")\n",
    "\n",
    "### you will pass \"llm\" to your agent function\n",
    "```"
   ]
  },
  {
   "cell_type": "markdown",
   "metadata": {},
   "source": [
    "#### Mistral API\n",
    "\n",
    "```Python\n",
    "OPENAI_API_KEY=your-mistral-api-key\n",
    "OPENAI_API_BASE=https://api.mistral.ai/v1\n",
    "OPENAI_MODEL_NAME=\"mistral-small\"\n",
    "```"
   ]
  },
  {
   "cell_type": "markdown",
   "metadata": {},
   "source": [
    "#### Cohere\n",
    "\n",
    "```Python\n",
    "from langchain_community.chat_models import ChatCohere\n",
    "# Initialize language model\n",
    "os.environ[\"COHERE_API_KEY\"] = \"your-cohere-api-key\"\n",
    "llm = ChatCohere()\n",
    "\n",
    "### you will pass \"llm\" to your agent function\n",
    "```"
   ]
  },
  {
   "cell_type": "markdown",
   "metadata": {},
   "source": [
    "### For using Llama locally with Ollama and more, checkout the crewAI documentation on [Connecting to any LLM](https://docs.crewai.com/how-to/LLM-Connections/)."
   ]
  },
  {
   "cell_type": "code",
   "execution_count": null,
   "metadata": {
    "height": 30
   },
   "outputs": [],
   "source": []
  },
  {
   "cell_type": "code",
   "execution_count": null,
   "metadata": {
    "height": 30
   },
   "outputs": [],
   "source": []
  },
  {
   "cell_type": "code",
   "execution_count": null,
   "metadata": {
    "height": 30
   },
   "outputs": [],
   "source": []
  }
 ],
 "metadata": {
  "colab": {
   "gpuType": "T4",
   "provenance": []
  },
  "kernelspec": {
   "display_name": "Python 3",
   "language": "python",
   "name": "python3"
  },
  "language_info": {
   "codemirror_mode": {
    "name": "ipython",
    "version": 3
   },
   "file_extension": ".py",
   "mimetype": "text/x-python",
   "name": "python",
   "nbconvert_exporter": "python",
   "pygments_lexer": "ipython3",
   "version": "3.12.1"
  }
 },
 "nbformat": 4,
 "nbformat_minor": 4
}
